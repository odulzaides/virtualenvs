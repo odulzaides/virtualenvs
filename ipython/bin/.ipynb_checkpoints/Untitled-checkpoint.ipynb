{
 "cells": [
  {
   "cell_type": "markdown",
   "metadata": {},
   "source": [
    "#### This is an example of a closure."
   ]
  },
  {
   "cell_type": "code",
   "execution_count": 28,
   "metadata": {
    "collapsed": false
   },
   "outputs": [
    {
     "name": "stdout",
     "output_type": "stream",
     "text": [
      "5\n",
      "-1\n",
      "6\n",
      "0.6666666666666666\n"
     ]
    }
   ],
   "source": [
    "var calculator = function(operator){\n",
    "    \n",
    "    // This creates a closure\n",
    "    return function(num1,num2){\n",
    "        if (operator === 'add'){\n",
    "            var result = num1+num2;\n",
    "            console.log(result);\n",
    "        } else if (operator === 'subtract'){\n",
    "            var result = num1-num2;\n",
    "            console.log(result);\n",
    "        } else if (operator === 'multiply'){\n",
    "            var result = num1*num2;\n",
    "            console.log(result);\n",
    "        } else if (operator === 'divide'){\n",
    "            var result = num1/num2;\n",
    "            console.log(result);\n",
    "        } \n",
    "    }\n",
    "}\n",
    "\n",
    "var add = calculator('add');\n",
    "var subtract = calculator('subtract');\n",
    "var multiply = calculator('multiply');\n",
    "var divide = calculator('divide');\n",
    "\n",
    "add(2,3);\n",
    "subtract(2,3);\n",
    "multiply(2,3);\n",
    "divide(2,3);\n"
   ]
  },
  {
   "cell_type": "markdown",
   "metadata": {},
   "source": [
    "#### This is the same closure using a switch statement instead of an if/else"
   ]
  },
  {
   "cell_type": "code",
   "execution_count": 27,
   "metadata": {
    "collapsed": false
   },
   "outputs": [
    {
     "name": "stdout",
     "output_type": "stream",
     "text": [
      "5\n",
      "-1\n",
      "6\n",
      "0.6666666666666666\n",
      "The operator must be add, subtract, multiply, or divide\n"
     ]
    }
   ],
   "source": [
    "var calculator = function(operator){\n",
    "    return function(num1,num2){\n",
    "        switch(operator){\n",
    "            case \"add\":\n",
    "                var result = num1+num2;\n",
    "                console.log(result);\n",
    "                break;\n",
    "            case \"subtract\":\n",
    "                var result = num1-num2;\n",
    "                console.log(result);\n",
    "                break;\n",
    "            case \"multiply\":\n",
    "                var result = num1*num2;\n",
    "                console.log(result);\n",
    "                break;\n",
    "            case \"divide\":\n",
    "                var result = num1/num2;\n",
    "                console.log(result);\n",
    "                break;\n",
    "            default:\n",
    "                console.log(\"The operator must be add, subtract, multiply, or divide\");\n",
    "        }\n",
    "    }\n",
    "}\n",
    "\n",
    "var add = calculator('add');\n",
    "var subtract = calculator('subtract');\n",
    "var multiply = calculator('multiply');\n",
    "var divide = calculator('divide');\n",
    "var default1 = calculator(\"yes\");\n",
    "\n",
    "add(2,3);\n",
    "subtract(2,3);\n",
    "multiply(2,3);\n",
    "divide(2,3);\n",
    "default1(7,8);\n"
   ]
  },
  {
   "cell_type": "code",
   "execution_count": null,
   "metadata": {
    "collapsed": true
   },
   "outputs": [],
   "source": []
  }
 ],
 "metadata": {
  "kernelspec": {
   "display_name": "NodeJS",
   "language": "javascript",
   "name": "nodejs"
  },
  "language_info": {
   "codemirror_mode": "javascript",
   "file_extension": "js",
   "mimetype": "text/javascript",
   "name": "nodejs",
   "pygments_lexer": "javascript",
   "version": "0.10"
  }
 },
 "nbformat": 4,
 "nbformat_minor": 0
}
