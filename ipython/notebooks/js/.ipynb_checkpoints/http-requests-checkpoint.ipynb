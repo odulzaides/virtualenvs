{
 "cells": [
  {
   "cell_type": "markdown",
   "metadata": {},
   "source": [
    "##### This is working. Example of downloading brands."
   ]
  },
  {
   "cell_type": "code",
   "execution_count": null,
   "metadata": {
    "collapsed": false
   },
   "outputs": [],
   "source": [
    "var NutritionixClient = require('nutritionix');\n",
    "var nutritionix = new NutritionixClient({\n",
    "    appId: '470ee77d',\n",
    "    appKey: '3df9aecc7a8ad5d9c6970d6b78f0594f',\n",
    "    //debug: true, // defaults to false\n",
    "});\n",
    "\n",
    "function listItems(promise){\n",
    "//     console.log(promise.results);\n",
    "    var results = promise.results;\n",
    "    var nutrition = results.nutrition;\n",
    "    for (var i =0; i < results.length; i++){\n",
    "        var response = [];\n",
    "           response.push(results[i][\"name\"]);   \n",
    "        console.log(response);\n",
    "    }\n",
    "}\n",
    "     \n",
    "\n",
    "nutritionix.brand_search({\n",
    "  q:\"Campbells\",\n",
    "  // use these for paging\n",
    "  limit: 20,\n",
    "  offset: 0,\n",
    "  // controls the basic nutrient returned in search\n",
    "  search_nutrient: 'calories'\n",
    "}).then(listItems);\n",
    "\n"
   ]
  },
  {
   "cell_type": "markdown",
   "metadata": {},
   "source": [
    "###### Example of using search instead of brand.  \n",
    "Look at nutritionix docs.\n",
    "This is giving an error"
   ]
  },
  {
   "cell_type": "markdown",
   "metadata": {},
   "source": [
    "###### Natural search"
   ]
  },
  {
   "cell_type": "code",
   "execution_count": 163,
   "metadata": {
    "collapsed": false
   },
   "outputs": [
    {
     "data": {
      "text/plain": [
       "Promise {\n",
       "  _bitField: 0,\n",
       "  _fulfillmentHandler0: undefined,\n",
       "  _rejectionHandler0: undefined,\n",
       "  _progressHandler0: undefined,\n",
       "  _promise0: undefined,\n",
       "  _receiver0: undefined,\n",
       "  _settledValue: undefined }"
      ]
     },
     "execution_count": 163,
     "metadata": {},
     "output_type": "execute_result"
    },
    {
     "name": "stdout",
     "output_type": "stream",
     "text": [
      "{ attr_id: 503,\n",
      "  value: 0.027890625,\n",
      "  unit: 'g',\n",
      "  name: 'Isoleucine',\n",
      "  usda_tag: 'ILE_G' }\n"
     ]
    }
   ],
   "source": [
    "function listItems(promise){\n",
    "    var results = promise.results[0];\n",
    "    var nutrition = results.nutrients;\n",
    "    var response = [];\n",
    "    for (var i =0; i < nutrition.length; i++){\n",
    "        var nutrient = [];    \n",
    "           response.push(nutrition[i]);\n",
    "    }\n",
    "    console.log(response[76]); \n",
    "}\n",
    " \n",
    "\n",
    "var ingredients = [\n",
    "  '1 tbsp flour',\n",
    "  '1 tomato'\n",
    "];\n",
    "\n",
    "// ensure you are passing a string with queries delimited by new lines.\n",
    "nutritionix.natural(ingredients.join('\\n'))\n",
    "    .then(listItems);"
   ]
  },
  {
   "cell_type": "code",
   "execution_count": null,
   "metadata": {
    "collapsed": true
   },
   "outputs": [],
   "source": []
  },
  {
   "cell_type": "markdown",
   "metadata": {},
   "source": [
    "###### # GET request is coming back 'unauthorized' On the site it is showing to use curl.\n",
    "Docs: https://developer.nutritionix.com/docs/v1_1\n",
    "\n",
    "// To send not using nutritionix module.\n",
    "\n",
    "var postData = { // Nutrionix required JSON formt\n",
    "    \"appId\":\"470ee77d\",\n",
    "    \"appKey\":\"3df9aecc7a8ad5d9c6970d6b78f0594f\",\n",
    "    \"query\": \"Lentils\",\n",
    "    \"fields\": [\"item_name\", \"nf_calories\", \"nf_serving_size_qty\", \"nf_serving_size_unit\"],\n",
    "    \"sort\":{\n",
    "        \"field\":\"score\",\n",
    "        \"order\":\"desc\"\n",
    "    },\n",
    "    \"filters\":{\n",
    "        \"item_type\":\"2\"\n",
    "    }\n",
    "};"
   ]
  }
 ],
 "metadata": {
  "kernelspec": {
   "display_name": "Javascript (Node.js)",
   "language": "javascript",
   "name": "javascript"
  },
  "language_info": {
   "file_extension": ".js",
   "mimetype": "application/javascript",
   "name": "javascript",
   "version": "5.2.0"
  }
 },
 "nbformat": 4,
 "nbformat_minor": 0
}
