{
 "cells": [
  {
   "cell_type": "code",
   "execution_count": null,
   "metadata": {
    "collapsed": true
   },
   "outputs": [],
   "source": []
  },
  {
   "cell_type": "code",
   "execution_count": null,
   "metadata": {
    "collapsed": true
   },
   "outputs": [],
   "source": []
  },
  {
   "cell_type": "code",
   "execution_count": 1,
   "metadata": {
    "collapsed": false
   },
   "outputs": [
    {
     "ename": "ReferenceError",
     "evalue": "alert is not defined",
     "output_type": "error",
     "traceback": [
      "ReferenceError: alert is not defined",
      "    at evalmachine.<anonymous>:1:1",
      "    at Object.exports.runInThisContext (vm.js:55:17)",
      "    at run ([eval]:608:19)",
      "    at onRunRequest ([eval]:379:22)",
      "    at onMessage ([eval]:347:17)",
      "    at emitTwo (events.js:88:13)",
      "    at process.emit (events.js:173:7)",
      "    at handleMessage (internal/child_process.js:687:10)",
      "    at Pipe.channel.onread (internal/child_process.js:441:11)"
     ]
    }
   ],
   "source": [
    "alert(\"hello\")"
   ]
  },
  {
   "cell_type": "code",
   "execution_count": 2,
   "metadata": {
    "collapsed": false
   },
   "outputs": [
    {
     "name": "stdout",
     "output_type": "stream",
     "text": [
      "11\n"
     ]
    },
    {
     "data": {
      "text/plain": [
       "undefined"
      ]
     },
     "execution_count": 2,
     "metadata": {},
     "output_type": "execute_result"
    }
   ],
   "source": [
    "var i = 11;\n",
    "console.log(i)"
   ]
  },
  {
   "cell_type": "code",
   "execution_count": 1,
   "metadata": {
    "collapsed": false
   },
   "outputs": [
    {
     "ename": "ReferenceError",
     "evalue": "alert is not defined",
     "output_type": "error",
     "traceback": [
      "ReferenceError: alert is not defined",
      "    at evalmachine.<anonymous>:1:1",
      "    at Object.exports.runInThisContext (vm.js:55:17)",
      "    at run ([eval]:608:19)",
      "    at onRunRequest ([eval]:379:22)",
      "    at onMessage ([eval]:347:17)",
      "    at emitTwo (events.js:88:13)",
      "    at process.emit (events.js:173:7)",
      "    at handleMessage (internal/child_process.js:687:10)",
      "    at Pipe.channel.onread (internal/child_process.js:441:11)"
     ]
    }
   ],
   "source": [
    "alert(\"hello\")"
   ]
  },
  {
   "cell_type": "code",
   "execution_count": null,
   "metadata": {
    "collapsed": true
   },
   "outputs": [],
   "source": []
  }
 ],
 "metadata": {
  "kernelspec": {
   "display_name": "Javascript (Node.js)",
   "language": "javascript",
   "name": "javascript"
  },
  "language_info": {
   "file_extension": ".js",
   "mimetype": "application/javascript",
   "name": "javascript",
   "version": "5.2.0"
  }
 },
 "nbformat": 4,
 "nbformat_minor": 0
}
